{
  "nbformat": 4,
  "nbformat_minor": 0,
  "metadata": {
    "colab": {
      "provenance": []
    },
    "kernelspec": {
      "name": "python3",
      "display_name": "Python 3"
    },
    "language_info": {
      "name": "python"
    }
  },
  "cells": [
    {
      "cell_type": "code",
      "execution_count": null,
      "metadata": {
        "id": "IkHWIQ3Fbmpr"
      },
      "outputs": [],
      "source": [
        "print(\"Merhaba IGU HEE Algoritma sınıfı\") # İLK ÇIKTI"
      ]
    },
    {
      "cell_type": "markdown",
      "source": [
        "İGÜ HEE ALGORİTMA DERSİ 01.10.2024  \n",
        "\n",
        "İLK PYTHON PROGLAMLAMA DİLİ ÇIKTISIDIR.\n"
      ],
      "metadata": {
        "id": "tOob4f-Bcl64"
      }
    },
    {
      "cell_type": "code",
      "source": [
        "import sys # import python programlama dilinde yazı  yazmaya yarayan bir koddur.\n",
        "print(sys.version)"
      ],
      "metadata": {
        "colab": {
          "base_uri": "https://localhost:8080/"
        },
        "id": "wgTa_sc9ee1x",
        "outputId": "518d46ed-e242-4a5d-95ca-b33534d00d61"
      },
      "execution_count": 2,
      "outputs": [
        {
          "output_type": "stream",
          "name": "stdout",
          "text": [
            "3.10.12 (main, Sep 11 2024, 15:47:36) [GCC 11.4.0]\n"
          ]
        }
      ]
    },
    {
      "cell_type": "code",
      "source": [
        "from google.colab import drive # google colab - drive bağlantısı\n",
        "drive.mount('/content/drive')"
      ],
      "metadata": {
        "colab": {
          "base_uri": "https://localhost:8080/"
        },
        "id": "LMusY8v4h7YJ",
        "outputId": "0e7a1ed9-4588-4470-fb43-f8b92b330439"
      },
      "execution_count": 6,
      "outputs": [
        {
          "output_type": "stream",
          "name": "stdout",
          "text": [
            "Mounted at /content/drive\n"
          ]
        }
      ]
    },
    {
      "cell_type": "code",
      "source": [
        "import os\n",
        "os.chdir('/content/drive/My Drive/IGU_ALGORITMA')\n",
        "!pwd # bize kodun çıktısını dosya yolu olarak veren kod blogudur."
      ],
      "metadata": {
        "colab": {
          "base_uri": "https://localhost:8080/"
        },
        "id": "d466htPTiwIS",
        "outputId": "97eb99bf-b381-4c04-eea1-5bf38e4fce8a"
      },
      "execution_count": 9,
      "outputs": [
        {
          "output_type": "stream",
          "name": "stdout",
          "text": [
            "/content/drive/My Drive/IGU_ALGORITMA\n"
          ]
        }
      ]
    }
  ]
}